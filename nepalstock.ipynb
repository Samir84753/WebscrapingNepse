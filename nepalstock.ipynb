{
 "metadata": {
  "language_info": {
   "codemirror_mode": {
    "name": "ipython",
    "version": 3
   },
   "file_extension": ".py",
   "mimetype": "text/x-python",
   "name": "python",
   "nbconvert_exporter": "python",
   "pygments_lexer": "ipython3",
   "version": "3.8.5"
  },
  "orig_nbformat": 2,
  "kernelspec": {
   "name": "python3",
   "display_name": "Python 3.8.5 64-bit",
   "metadata": {
    "interpreter": {
     "hash": "31f2aee4e71d21fbe5cf8b01ff0e069b9275f58929596ceb00d14d90e3e16cd6"
    }
   }
  }
 },
 "nbformat": 4,
 "nbformat_minor": 2,
 "cells": [
  {
   "cell_type": "code",
   "execution_count": 3,
   "metadata": {},
   "outputs": [],
   "source": [
    "from bs4 import BeautifulSoup\n",
    "import requests\n",
    "import pandas as pd"
   ]
  },
  {
   "cell_type": "code",
   "execution_count": 4,
   "metadata": {},
   "outputs": [],
   "source": [
    "#todaysprice data nepalstock\n",
    "#dateformat=2021-4-1(yyyy-m-d)\n",
    "url='http://www.nepalstock.com/todaysprice/?startDate=&stock-symbol=&_limit=300'\n",
    "page=requests.get(url)\n",
    "soup=BeautifulSoup(page.content,'html.parser')"
   ]
  },
  {
   "cell_type": "code",
   "execution_count": 5,
   "metadata": {},
   "outputs": [],
   "source": [
    "names=soup.select(\"tr.unique td\")\n",
    "columnlist=[]\n",
    "for i in names:\n",
    "    columnlist.append(i.text)\n",
    "df=pd.DataFrame(columns=columnlist)"
   ]
  },
  {
   "cell_type": "code",
   "execution_count": 6,
   "metadata": {},
   "outputs": [],
   "source": [
    "rows=soup.find(\"table\", attrs={\"class\":\"table\"}).find_all(\"tr\")[2:-4]\n",
    "number=len(rows)\n",
    "\n",
    "for i in range (2,number+2):\n",
    "    rows=soup.find(\"table\", attrs={\"class\":\"table\"}).find_all(\"tr\")[i]\n",
    "    l=[]\n",
    "    td=rows.find_all('td')\n",
    "    for i in td:\n",
    "        l.append(i.text.strip())\n",
    "    a_series = pd.Series(l, index = df.columns)\n",
    "    df = df.append(a_series, ignore_index=True)\n",
    "        "
   ]
  },
  {
   "cell_type": "code",
   "execution_count": 7,
   "metadata": {},
   "outputs": [
    {
     "output_type": "execute_result",
     "data": {
      "text/plain": [
       "    S.N.                                   Traded Companies  \\\n",
       "0      1                         10% Sunrise Debenture 2080   \n",
       "1      2      10.25% GLOBAL IME BANK LTD. DEBENTURE 2080/81   \n",
       "2      3                         10.25% NBBL Debenture 2085   \n",
       "3      4                  10.25% NIC Asia Debenture 2083/84   \n",
       "4      5                          10.50% SBL Debenture 2082   \n",
       "..   ...                                                ...   \n",
       "207  208                        UNIVERSAL POWER COMPANY LTD   \n",
       "208  209  Unnati Sahakarya Laghubitta Bittiya Sanstha Li...   \n",
       "209  210                     Upper Tamakoshi Hydropower Ltd   \n",
       "210  211             Vijaya laghubitta Bittiya Sanstha Ltd.   \n",
       "211  212             Womi Microfinance Bittiya Sanstha Ltd.   \n",
       "\n",
       "    No. Of Transaction Max Price Min Price Closing Price Traded Shares  \\\n",
       "0                    3   1040.00   1026.00       1040.00        525.00   \n",
       "1                    1   1056.00   1056.00       1056.00         50.00   \n",
       "2                    2   1046.00   1045.00       1046.00         75.00   \n",
       "3                    2   1086.00   1086.00       1086.00        100.00   \n",
       "4                    1   1048.00   1048.00       1048.00         25.00   \n",
       "..                 ...       ...       ...           ...           ...   \n",
       "207                383    156.00    148.00        150.00     103056.00   \n",
       "208                 36   2330.00   2280.00       2320.00       1597.00   \n",
       "209               2836    910.00    848.00        908.00     391207.00   \n",
       "210                 92   1657.00   1600.00       1637.00       4984.00   \n",
       "211                 35   1658.00   1538.00       1658.00       2156.00   \n",
       "\n",
       "           Amount Previous Closing Difference Rs.  \n",
       "0       545650.00          1025.00          15.00  \n",
       "1        52800.00          1075.00         -19.00  \n",
       "2        78400.00          1050.00          -4.00  \n",
       "3       108600.00          1086.00           0.00  \n",
       "4        26200.00          1052.00          -4.00  \n",
       "..            ...              ...            ...  \n",
       "207   15536886.00           150.00           0.00  \n",
       "208    3674879.00          2358.00         -38.00  \n",
       "209  347568093.00           862.00          46.00  \n",
       "210    8099792.00          1627.00          10.00  \n",
       "211    3571678.00          1508.00         150.00  \n",
       "\n",
       "[212 rows x 10 columns]"
      ],
      "text/html": "<div>\n<style scoped>\n    .dataframe tbody tr th:only-of-type {\n        vertical-align: middle;\n    }\n\n    .dataframe tbody tr th {\n        vertical-align: top;\n    }\n\n    .dataframe thead th {\n        text-align: right;\n    }\n</style>\n<table border=\"1\" class=\"dataframe\">\n  <thead>\n    <tr style=\"text-align: right;\">\n      <th></th>\n      <th>S.N.</th>\n      <th>Traded Companies</th>\n      <th>No. Of Transaction</th>\n      <th>Max Price</th>\n      <th>Min Price</th>\n      <th>Closing Price</th>\n      <th>Traded Shares</th>\n      <th>Amount</th>\n      <th>Previous Closing</th>\n      <th>Difference Rs.</th>\n    </tr>\n  </thead>\n  <tbody>\n    <tr>\n      <th>0</th>\n      <td>1</td>\n      <td>10% Sunrise Debenture 2080</td>\n      <td>3</td>\n      <td>1040.00</td>\n      <td>1026.00</td>\n      <td>1040.00</td>\n      <td>525.00</td>\n      <td>545650.00</td>\n      <td>1025.00</td>\n      <td>15.00</td>\n    </tr>\n    <tr>\n      <th>1</th>\n      <td>2</td>\n      <td>10.25% GLOBAL IME BANK LTD. DEBENTURE 2080/81</td>\n      <td>1</td>\n      <td>1056.00</td>\n      <td>1056.00</td>\n      <td>1056.00</td>\n      <td>50.00</td>\n      <td>52800.00</td>\n      <td>1075.00</td>\n      <td>-19.00</td>\n    </tr>\n    <tr>\n      <th>2</th>\n      <td>3</td>\n      <td>10.25% NBBL Debenture 2085</td>\n      <td>2</td>\n      <td>1046.00</td>\n      <td>1045.00</td>\n      <td>1046.00</td>\n      <td>75.00</td>\n      <td>78400.00</td>\n      <td>1050.00</td>\n      <td>-4.00</td>\n    </tr>\n    <tr>\n      <th>3</th>\n      <td>4</td>\n      <td>10.25% NIC Asia Debenture 2083/84</td>\n      <td>2</td>\n      <td>1086.00</td>\n      <td>1086.00</td>\n      <td>1086.00</td>\n      <td>100.00</td>\n      <td>108600.00</td>\n      <td>1086.00</td>\n      <td>0.00</td>\n    </tr>\n    <tr>\n      <th>4</th>\n      <td>5</td>\n      <td>10.50% SBL Debenture 2082</td>\n      <td>1</td>\n      <td>1048.00</td>\n      <td>1048.00</td>\n      <td>1048.00</td>\n      <td>25.00</td>\n      <td>26200.00</td>\n      <td>1052.00</td>\n      <td>-4.00</td>\n    </tr>\n    <tr>\n      <th>...</th>\n      <td>...</td>\n      <td>...</td>\n      <td>...</td>\n      <td>...</td>\n      <td>...</td>\n      <td>...</td>\n      <td>...</td>\n      <td>...</td>\n      <td>...</td>\n      <td>...</td>\n    </tr>\n    <tr>\n      <th>207</th>\n      <td>208</td>\n      <td>UNIVERSAL POWER COMPANY LTD</td>\n      <td>383</td>\n      <td>156.00</td>\n      <td>148.00</td>\n      <td>150.00</td>\n      <td>103056.00</td>\n      <td>15536886.00</td>\n      <td>150.00</td>\n      <td>0.00</td>\n    </tr>\n    <tr>\n      <th>208</th>\n      <td>209</td>\n      <td>Unnati Sahakarya Laghubitta Bittiya Sanstha Li...</td>\n      <td>36</td>\n      <td>2330.00</td>\n      <td>2280.00</td>\n      <td>2320.00</td>\n      <td>1597.00</td>\n      <td>3674879.00</td>\n      <td>2358.00</td>\n      <td>-38.00</td>\n    </tr>\n    <tr>\n      <th>209</th>\n      <td>210</td>\n      <td>Upper Tamakoshi Hydropower Ltd</td>\n      <td>2836</td>\n      <td>910.00</td>\n      <td>848.00</td>\n      <td>908.00</td>\n      <td>391207.00</td>\n      <td>347568093.00</td>\n      <td>862.00</td>\n      <td>46.00</td>\n    </tr>\n    <tr>\n      <th>210</th>\n      <td>211</td>\n      <td>Vijaya laghubitta Bittiya Sanstha Ltd.</td>\n      <td>92</td>\n      <td>1657.00</td>\n      <td>1600.00</td>\n      <td>1637.00</td>\n      <td>4984.00</td>\n      <td>8099792.00</td>\n      <td>1627.00</td>\n      <td>10.00</td>\n    </tr>\n    <tr>\n      <th>211</th>\n      <td>212</td>\n      <td>Womi Microfinance Bittiya Sanstha Ltd.</td>\n      <td>35</td>\n      <td>1658.00</td>\n      <td>1538.00</td>\n      <td>1658.00</td>\n      <td>2156.00</td>\n      <td>3571678.00</td>\n      <td>1508.00</td>\n      <td>150.00</td>\n    </tr>\n  </tbody>\n</table>\n<p>212 rows × 10 columns</p>\n</div>"
     },
     "metadata": {},
     "execution_count": 7
    }
   ],
   "source": [
    "df\n"
   ]
  },
  {
   "cell_type": "code",
   "execution_count": null,
   "metadata": {},
   "outputs": [],
   "source": []
  }
 ]
}
